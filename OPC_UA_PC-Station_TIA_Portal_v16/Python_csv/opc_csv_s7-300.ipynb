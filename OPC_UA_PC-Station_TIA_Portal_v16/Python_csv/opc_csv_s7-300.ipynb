{
 "cells": [
  {
   "cell_type": "code",
   "execution_count": null,
   "metadata": {},
   "outputs": [],
   "source": [
    "#Komunikacja OPC UA pomiędzy serwerem (PC Station) a PLC S7-1300. \n",
    "#Serwer OPC realizowany poprzez SIMATIC NET v16 - PC Station. Sterownik S7-314C 2PN/DP z fw v3.3. Programowany w TIA Portal v16\n",
    "#Logowanie do serwera jako gość tzn. bez użycia certyfikatu, loginu i hasła\n",
    "#Połączenie pomiędzy Serwerem OPC UA a PLC S7-300 jest połączeniem typu S7. \n",
    "#Data Block i Tag w PLC są nieoptymalizowane do połączenia z serwerem OPC UA, przez co używany jest serwer OPC.SIMATICNET.S7\n",
    "#\n",
    "#Pobierane dane:\n",
    "#       Array [0..2] of Byte\n",
    "#       Bool\n",
    "#       Byte - Hex\n",
    "#       Char (znaki ASCII)\n",
    "#       Date and Time - zmienna DTL z bloczka RD_SYS_T\n",
    "#       Double word - Hex\n",
    "#       Int\n",
    "#       Real (wartości dziesiętne zmienno przecinkowe)\n",
    "#       String (tekst)\n",
    "#       Structura:\n",
    "#           Bool\n",
    "#           Byte\n",
    "#\n",
    "#Zmiana wartości INT w sterowniku PLC, incrementacja o 1 (jeden)\n",
    "#\n",
    "#Zapis do pliku CSV:\n",
    "#   odczytanych danych z sterownika PLC\n",
    "#   Zmiany wartości INT w sterowniku PLC oraz odczytu reszty danych\n",
    "#   Oznaczenie w pliku CSV z jakiego sterownika zostały odczytane/zapisane dane - S7-1200, S7-1500, S7-300\n",
    "#   Oznaczenie w pliku CSV czy dane zostały odczytane czy nadpisane w sterowniku PLC\n",
    "#\n",
    "#\n",
    "#\n",
    "#Wykorzystane dodatkowe biblioteki:\n",
    "#OPC UA https://github.com/FreeOpcUa/python-opcua"
   ]
  },
  {
   "cell_type": "code",
   "execution_count": null,
   "metadata": {},
   "outputs": [],
   "source": [
    "    #biblioteki do obsługi Client OPC i OPC UA\n",
    "from opcua import Client, ua\n",
    "    #obsługa zapisu do pliku CSV\n",
    "import csv\n",
    "    #sprawdzenie czy pliku .csv istnieje\n",
    "import os"
   ]
  },
  {
   "cell_type": "code",
   "execution_count": null,
   "metadata": {},
   "outputs": [],
   "source": [
    "    #połączenie do serwera bez dodatkowych poświadczeń jako gość (guest)\n",
    "    #adres IP z portem serwera OPC UA, używany jest serwer OPC.SIMATICNET.S7\n",
    "url = 'opc.tcp://192.168.60.80:55101'\n",
    "    #nawiązanie połączenia z serwerem\n",
    "client = Client(url)\n",
    "client.connect()\n",
    "print(f'Połączono z: {url}')"
   ]
  },
  {
   "cell_type": "code",
   "execution_count": null,
   "metadata": {},
   "outputs": [],
   "source": [
    "    #odczyt wartości Array [0..2] of Byte - odczytana została cała tablica \n",
    "zmienna_array0 = client.get_node('ns=7;s=S7300ET200M station_1.314c.db_opc.zm_array').get_value()\n",
    "    #wyświetlenie pojedyńczych wartości tablicy jako wartości szesnastkowe (HEX) \n",
    "    #zmiana zapisu wartości na string, aby umożliwić prosty zapis w pliku CSV oraz analizę tego pliku (wyodrębnienie pojedyńczych zmiennych)\n",
    "zmienna_array_0 = str(hex(zmienna_array0[0]))\n",
    "zmienna_array_1 = str(hex(zmienna_array0[1]))\n",
    "zmienna_array_2 = str(hex(zmienna_array0[2]))\n",
    "    #zapis zmienych z tablicy do jednej zmiennej, aby zapisać w jednej kolumnie w pliku CSV. Wartości oddzielonę są średnikiem \";\"\n",
    "zmienna_array = zmienna_array_0 + ';' + zmienna_array_1 + ';' + zmienna_array_2\n",
    "    #wyświetlenie odczytanej zmiennej array (połączonych wartości)\n",
    "print(zmienna_array)"
   ]
  },
  {
   "cell_type": "code",
   "execution_count": null,
   "metadata": {},
   "outputs": [],
   "source": [
    "    #odczyt wartości Bool, wartość wyświetlana jest jako False lub True\n",
    "zmienna_bool = client.get_node('ns=7;s=S7300ET200M station_1.314c.db_opc.zm_bool').get_value()\n",
    "    #wyświetlenie odczytanej zmiennej bool\n",
    "print(zmienna_bool)"
   ]
  },
  {
   "cell_type": "code",
   "execution_count": null,
   "metadata": {},
   "outputs": [],
   "source": [
    "    #odczyt wartości Byte jako wartość szesnastkowa (Hex) \n",
    "    #Wartości Byte w sterowniku PLC zapisane są jako wartości Hexadecymalne\n",
    "zmienna_byte = hex(client.get_node('ns=7;s=S7300ET200M station_1.314c.db_opc.zm_byte').get_value())\n",
    "    #wyświetlenie odczytanej zmiennej byte\n",
    "print(zmienna_byte)"
   ]
  },
  {
   "cell_type": "code",
   "execution_count": null,
   "metadata": {},
   "outputs": [],
   "source": [
    "    #odczyt wartosci decymalnej z zmiennej char - wartość kodu ASCII\n",
    "    #sterownik PLC umożliwia również zastosowanie rozszerzonego kodu ASCII \n",
    "zmienna_char = client.get_node('ns=7;s=S7300ET200M station_1.314c.db_opc.zm_char').get_value()\n",
    "    #zmiana wartosci decymalnej na znak z tablicy ASCII\n",
    "zmienna_char = chr(zmienna_char)\n",
    "    #wyświetlenie odczytanej zmiennej char\n",
    "print(zmienna_char)"
   ]
  },
  {
   "cell_type": "code",
   "execution_count": null,
   "metadata": {},
   "outputs": [],
   "source": [
    "    #odczyt całej zmiennej ... (Date and Time)\n",
    "zmienna_date_time = client.get_node('ns=7;s=S7300ET200M station_1.314c.db_opc.zm_datetime_rd_sys_t').get_value()\n",
    "    #zmiana zapisu wartości na string, aby umożliwić analizę tej zmiennej (wyodrębnienie pojedyńczych zmiennych)\n",
    "zmienna_date_time = str(zmienna_date_time)\n",
    "\n",
    "    #dane tylko rok, miesiąc, dzień, godzina, minuta, sekunda\n",
    "year = zmienna_date_time[:4]\n",
    "month = zmienna_date_time[5:7]\n",
    "day = zmienna_date_time[8:11]\n",
    "hour = zmienna_date_time[11:13]\n",
    "minute = zmienna_date_time[14:16]\n",
    "second = zmienna_date_time[17:19]\n",
    "\n",
    "    #zapis zmienych z tablicy do jednej zmiennej, aby zapisać w jednej kolumnie w pliku CSV. Wartości oddzielonę są kropką \".\"\n",
    "zmienna_date_time_date = year + '.' + month + '.' + day\n",
    "    #zapis zmienych z tablicy do jednej zmiennej, aby zapisać w jednej kolumnie w pliku CSV. Wartości oddzielonę są dwukropkiem \":\"\n",
    "zmienna_date_time_time = hour + ':' + minute + ':' + second \n",
    "    #wyświetlenie zmiennej data i godzina\n",
    "print(zmienna_date_time_date, '\\n', zmienna_date_time_time)"
   ]
  },
  {
   "cell_type": "code",
   "execution_count": null,
   "metadata": {},
   "outputs": [],
   "source": [
    "    #odczyt wartości zmiennej Double Word jako wartość szesnastkową (Hex). Tak samo odcztuje się wartość Word.\n",
    "    #Wartości Word i Double Word w sterowniku PLC zapisane są jako wartości Hexadecymalne\n",
    "zmienna_double_word = hex(client.get_node('ns=7;s=S7300ET200M station_1.314c.db_opc.zm_dword').get_value())\n",
    "    #wyświetlenie odczytanej zmiennej Double Word\n",
    "print(zmienna_double_word)"
   ]
  },
  {
   "cell_type": "code",
   "execution_count": null,
   "metadata": {},
   "outputs": [],
   "source": [
    "    #odczytanie wartości Int\n",
    "zmienna_int = client.get_node('ns=7;s=S7300ET200M station_1.314c.db_opc.zm_int').get_value()\n",
    "    #wyświetlenie odczytanej zmiennej Int\n",
    "print(zmienna_int)"
   ]
  },
  {
   "cell_type": "code",
   "execution_count": null,
   "metadata": {},
   "outputs": [],
   "source": [
    "    #odczytanie wartości Real ze sterownika PLC. Wartość Real jest wartością zmienno przecinkową\n",
    "zmienna_real = float(client.get_node('ns=7;s=S7300ET200M station_1.314c.db_opc.zm_real').get_value())\n",
    "    #zaokrąglenie odczytanej wartości do 2 miejsc po przecinku\n",
    "zmienna_real = round(zmienna_real,2)\n",
    "    #wyświetlenie odczytanej zmiennej Real\n",
    "print(zmienna_real)"
   ]
  },
  {
   "cell_type": "code",
   "execution_count": null,
   "metadata": {},
   "outputs": [],
   "source": [
    "    #odczytanie wartości String, która jest tekstowym typem danych \n",
    "zmienna_string = client.get_node('ns=7;s=S7300ET200M station_1.314c.db_opc.zm_string').get_value()\n",
    "    #wyświetlenie odczytanej zmiennej String\n",
    "print(zmienna_string)"
   ]
  },
  {
   "cell_type": "code",
   "execution_count": null,
   "metadata": {},
   "outputs": [],
   "source": [
    "    #odczyt danych z struktury - data type\n",
    "    #odczyt wartości bool z struktury\n",
    "zmienna_structura_bool = client.get_node('ns=7;s=S7300ET200M station_1.314c.db_opc.zm_struct.zm_struct_bool').get_value()\n",
    "    #odczyt wartości byte z struktury. Wartość odczytywana jest jako wartość szesnastkowa \n",
    "zmienna_structura_byte = hex(client.get_node('ns=7;s=S7300ET200M station_1.314c.db_opc.zm_struct.zm_struct_byte').get_value())\n",
    "\n",
    "    #zmiana zapisu wartości na string, aby umożliwić prosty zapis w pliku CSV oraz analizę tego pliku (wyodrębnienie pojedyńczych zmiennych)\n",
    "zmienna_structura_bool_0 = str(zmienna_structura_bool)\n",
    "zmienna_structura_byte_1 = str(zmienna_structura_byte)\n",
    "        #zapis zmienych z tablicy do jednej zmiennej, aby zapisać w jednej kolumnie w pliku CSV. Wartości oddzielonę są średnikiem \";\"                       \n",
    "zmienna_structura = zmienna_structura_bool_0 + ';' + zmienna_structura_byte_1\n",
    "    #wyświetlenie zmiennej struktura\n",
    "print(zmienna_structura)"
   ]
  },
  {
   "cell_type": "code",
   "execution_count": null,
   "metadata": {},
   "outputs": [],
   "source": [
    "    #z jakiego sterownika są zapisywane dane do pliku CSV\n",
    "sterownik = 's7-300'\n",
    "\n",
    "    #przypisanie odpowiedniej wartości dla kolumny Odczyt/zapis\n",
    "odczyt_zapis = 'odczyt'\n",
    "\n",
    "    #zapis odczytanych danych do pliku csv\n",
    "    #sprawdzenie czy istnieje plik o nazwie \"opc.csv\"\n",
    "if(os.path.isfile('opc.csv')): #jeżeli tak to dopisz\n",
    "        with open('opc.csv','a',  encoding='UTF8', newline='') as file: #('nazwa pliku','a - dopisz do pliku','kodowanie','do nowej linii')\n",
    "            naglowek = ['Data','godzina','array','bool','byte','char','double word','int','real','string','structura','odczyt/zapis','sterownik'] #nagłówek pliku CSV\n",
    "            writer = csv.DictWriter(file, delimiter =';', fieldnames=naglowek) #dopisz do pliku (plik,'separacja','naglowek')\n",
    "            writer.writerow({'Data':zmienna_date_time_date,'godzina':zmienna_date_time_time,\n",
    "                        'array':zmienna_array,'bool':zmienna_bool,'byte':zmienna_byte,\n",
    "                        'char':zmienna_char,'double word':zmienna_double_word,'int':zmienna_int,'real':zmienna_real,'string':zmienna_string,\n",
    "                        'structura':zmienna_structura,'odczyt/zapis':odczyt_zapis,'sterownik':sterownik}) #dopisanie do pliku wartości zmiennych \n",
    "        \n",
    "else: #inaczej stworz plik z naglowkami\n",
    "        with open('opc.csv','x',  encoding='UTF8', newline='') as file: #('nazwa pliku','a - dopisz do pliku','kodowanie','do nowej linii')\n",
    "            naglowek = ['Data','godzina','array','bool','byte','char','double word','int','real','string','structura','odczyt/zapis','sterownik'] #nagłówek pliku CSV\n",
    "            writer = csv.DictWriter(file, delimiter =';', fieldnames=naglowek) #dopisz do pliku (plik,'separacja','naglowek')\n",
    "            writer.writeheader() #dopisz do pliku nagłówek - co nie dzieje się przy dopisywaniu do pliku,\n",
    "            #ponieważ w innym przypadku za każdym razem w pliku CSV zapis byłby (wiersze oddzielone średnikiem): nagłówek, zmienne, nagłówek, zmienne,...\n",
    "            writer.writerow({'Data':zmienna_date_time_date,'godzina':zmienna_date_time_time,\n",
    "                        'array':zmienna_array,'bool':zmienna_bool,'byte':zmienna_byte,\n",
    "                        'char':zmienna_char,'double word':zmienna_double_word,'int':zmienna_int,'real':zmienna_real,'string':zmienna_string,\n",
    "                        'structura':zmienna_structura,'odczyt/zapis':odczyt_zapis,'sterownik':sterownik}) #dopisanie do pliku wartości zmiennych"
   ]
  },
  {
   "cell_type": "code",
   "execution_count": null,
   "metadata": {},
   "outputs": [],
   "source": [
    "    #rozłączanie z serwerem OPC UA\n",
    "client.disconnect()\n",
    "print('Rozłączono z: {url}')"
   ]
  }
 ],
 "metadata": {
  "interpreter": {
   "hash": "247ab06e135bb35fa78c5eff31b2a9a0050dcb5fb773c2631d2a29ac689eeccb"
  },
  "kernelspec": {
   "display_name": "Python 3.9.6 64-bit",
   "name": "python3"
  },
  "language_info": {
   "codemirror_mode": {
    "name": "ipython",
    "version": 3
   },
   "file_extension": ".py",
   "mimetype": "text/x-python",
   "name": "python",
   "nbconvert_exporter": "python",
   "pygments_lexer": "ipython3",
   "version": "3.9.6"
  },
  "orig_nbformat": 4
 },
 "nbformat": 4,
 "nbformat_minor": 2
}
