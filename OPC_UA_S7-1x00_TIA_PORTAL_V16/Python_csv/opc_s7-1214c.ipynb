{
 "cells": [
  {
   "cell_type": "code",
   "execution_count": null,
   "metadata": {},
   "outputs": [],
   "source": [
    "#\n",
    "#Serwer OPC UA realizowany poprzez Sterownik PLC S7-1214C DC/DC/DC fw v4.5. Programowany w TIA Portal v16\n",
    "#Logowanie do serwera jako gość tzn. bez użycia certyfikatu, loginu i hasła\n",
    "#Data Block i Tag w PLC są zoptymalizowane do połączenia z serwerem OPC UA.\n",
    "#\n",
    "#Pobierane dane:\n",
    "#       Array [0..2] of Byte\n",
    "#       Bool\n",
    "#       Byte - Hex\n",
    "#       Char (znaki ASCII)\n",
    "#       Date and Time - zmienna DTL z bloczka RD_SYS_T\n",
    "#       Double word - Hex\n",
    "#       Int\n",
    "#       Real (wartości dziesiętne zmienno przecinkowe)\n",
    "#       String (tekst)\n",
    "#       Structura:\n",
    "#           Bool\n",
    "#           Byte\n",
    "#\n",
    "#\n",
    "#Zapis do pliku CSV:\n",
    "#   odczytanych danych z sterownika PLC\n",
    "#   Oznaczenie w pliku CSV z jakiego sterownika zostały odczytane dane - S7-1200, S7-1500, S7-300\n",
    "#\n",
    "#\n",
    "#\n",
    "#Wykorzystane biblioteki:\n",
    "#OPC UA https://github.com/FreeOpcUa/python-opcua"
   ]
  },
  {
   "cell_type": "code",
   "execution_count": null,
   "metadata": {},
   "outputs": [],
   "source": [
    "    #biblioteki do obsługi Client OPC i OPC UA\n",
    "from opcua import Client, ua\n",
    "    #obsługa zapisu do pliku CSV\n",
    "import csv\n",
    "    #sprawdzenie czy pliku .csv istnieje\n",
    "import os"
   ]
  },
  {
   "cell_type": "code",
   "execution_count": null,
   "metadata": {},
   "outputs": [],
   "source": [
    "    #połączenie do serwera bez dodatkowych poświadczeń jako gość (guest)\n",
    "    #adres IP z portem serwera OPC UA,\n",
    "url = 'opc.tcp://192.168.60.121:4840'\n",
    "    #nawiązanie połączenia z serwerem\n",
    "client = Client(url)\n",
    "client.connect()\n",
    "print(f\"nawiazano polaczenie z serwerem OPC {url}\")"
   ]
  },
  {
   "cell_type": "code",
   "execution_count": null,
   "metadata": {},
   "outputs": [],
   "source": [
    "    #odczyt wartości z data type: Array[0..2] of Byte, dane odczyta jako wartość HEX\n",
    "    #odczyt ns=?,i=? dla daty typu array of byte\n",
    "#print(client.get_node('ns=4;i=3').get_variables())\n",
    "    #odczyt typu zmiennej ... byte\n",
    "#print(client.get_node('ns=4;i=3').get_data_type_as_variant_type())\n",
    "\n",
    "        #odczyt pojedyńej wartości tablicy jako wartości szesnastkowe (HEX) \n",
    "zmienna_array_0 = hex(client.get_node('ns=4;i=4').get_value())\n",
    "zmienna_array_1 = hex(client.get_node('ns=4;i=5').get_value())\n",
    "zmienna_array_2 = hex(client.get_node('ns=4;i=6').get_value())\n",
    "\n",
    "    #zmiana zapisu wartości na string, aby umożliwić prosty zapis w pliku CSV oraz analizę tego pliku (wyodrębnienie pojedyńczych zmiennych)\n",
    "zmienna_array_0 = str(zmienna_array_0)\n",
    "zmienna_array_1 = str(zmienna_array_1)\n",
    "zmienna_array_2 = str(zmienna_array_2)\n",
    "\n",
    "    #zapis zmienych z tablicy do jednej zmiennej, aby zapisać w jednej kolumnie w pliku CSV. Wartości oddzielonę są średnikiem \";\"\n",
    "zmienna_array = zmienna_array_0 + ';' + zmienna_array_1 + ';' + zmienna_array_2\n",
    "    #wyświetlenie odczytanej zmiennej array (połączonych wartości)\n",
    "print(zmienna_array)"
   ]
  },
  {
   "cell_type": "code",
   "execution_count": null,
   "metadata": {},
   "outputs": [],
   "source": [
    "    #odczyt wartości Bool, wartość wyświetlana jest jako False lub True\n",
    "zmienna_bool = client.get_node('ns=4;i=7').get_value()\n",
    "print(zmienna_bool)"
   ]
  },
  {
   "cell_type": "code",
   "execution_count": null,
   "metadata": {},
   "outputs": [],
   "source": [
    "    #odczyt wartości Byte jako wartość szesnastkowa (Hex) \n",
    "zmienna_byte = hex(client.get_node('ns=4;i=8').get_value())\n",
    "print(zmienna_byte)"
   ]
  },
  {
   "cell_type": "code",
   "execution_count": null,
   "metadata": {},
   "outputs": [],
   "source": [
    "#odczyt wartosci decymalnej z zmiennej char - wartość kodu ASCII\n",
    "    #sterownik PLC umożliwia również zastosowanie rozszerzonego kodu ASCII \n",
    "        #więcej informacji o możliwych zastosowaniach kodów ASCII w PLC S7-1x00 https://support.industry.siemens.com/cs/mdm/109741593?c=79989723403&lc=en-CO\n",
    "zmienna_char = (client.get_node('ns=4;i=9').get_value())\n",
    "    #zmiana wartosci decymalnej na znak z tablicy ASCII\n",
    "zmienna_char = chr(zmienna_char)\n",
    "print(zmienna_char)"
   ]
  },
  {
   "cell_type": "code",
   "execution_count": null,
   "metadata": {},
   "outputs": [],
   "source": [
    "     #odczyt ns=?,i=? dla daty typu DTL Date time\n",
    "#print(client.get_node('ns=4;i=12').get_variables())\n",
    "\n",
    "      #odczyt pojedyńczych wartości z tablicy DTL\n",
    "      #odczyt dnia, miesiąca i roku\n",
    "zmienna_date_time_year = client.get_node('ns=4;i=13').get_value()\n",
    "zmienna_date_time_mount = client.get_node('ns=4;i=14').get_value()\n",
    "zmienna_date_time_day = client.get_node('ns=4;i=15').get_value()\n",
    "      #odczyt godziny, minuty, sekudny, nanosekundy \n",
    "zmienna_date_time_hour = client.get_node('ns=4;i=17').get_value()\n",
    "zmienna_date_time_minute = client.get_node('ns=4;i=18').get_value()\n",
    "zmienna_date_time_secound = client.get_node('ns=4;i=19').get_value()\n",
    "zmienna_date_time_nanosecound = client.get_node('ns=4;i=20').get_value()\n",
    "      #odczyt dnia tygodnia \n",
    "zmienna_date_time_weekday = client.get_node('ns=4;i=16').get_value() \n",
    "\n",
    "      #zmiana zapisu wartości na string, aby umożliwić prosty zapis w pliku CSV\n",
    "      #zmiana z wartości INT na String\n",
    "zmienna_date_time_day = str(zmienna_date_time_day)\n",
    "zmienna_date_time_mount = str(zmienna_date_time_mount)\n",
    "zmienna_date_time_year = str(zmienna_date_time_year)\n",
    "zmienna_date_time_hour = str(zmienna_date_time_hour)\n",
    "zmienna_date_time_minute = str(zmienna_date_time_minute)\n",
    "zmienna_date_time_secound = str(zmienna_date_time_secound)\n",
    "zmienna_date_time_weekday = str(zmienna_date_time_weekday)\n",
    "\n",
    "      #zapis zmienych z tablicy do jednej zmiennej, aby zapisać w jednej kolumnie w pliku CSV. Wartości oddzielonę są krpką \".\"\n",
    "zmienna_date_time_date = zmienna_date_time_year + '.' + zmienna_date_time_mount + '.' + zmienna_date_time_day\n",
    "      #zapis zmienych z tablicy do jednej zmiennej, aby zapisać w jednej kolumnie w pliku CSV. Wartości oddzielonę są dwukropkiem \":\"\n",
    "zmienna_date_time_time = zmienna_date_time_hour + ':' + zmienna_date_time_minute + ':' + zmienna_date_time_secound\n",
    "\n",
    "print(\"Data: \",zmienna_date_time_date)\n",
    "print(\"Godzina: \",zmienna_date_time_time)\n",
    "print(\"Dzien tygodnia: \", zmienna_date_time_weekday)"
   ]
  },
  {
   "cell_type": "code",
   "execution_count": null,
   "metadata": {},
   "outputs": [],
   "source": [
    "    #odczyt wartości zmiennej Double Word jako wartość szesnastkową (Hex). Tak samo odcztuje się wartość Word.\n",
    "    #Wartości Word i Double Word w sterowniku PLC zapisane są jako wartości Hexadecymalne\n",
    "zmienna_double_word = hex(client.get_node('ns=4;i=21').get_value())\n",
    "print(zmienna_double_word)"
   ]
  },
  {
   "cell_type": "code",
   "execution_count": null,
   "metadata": {},
   "outputs": [],
   "source": [
    "    #odczyt wartości INT\n",
    "zmienna_int = client.get_node('ns=4;i=22').get_value()\n",
    "\n",
    "\n",
    "    #sprawdzenie czy wartość zmiennej jest równa zakaładanej wartości,wtedy zresetuj counter (dodatni)\n",
    "if zmienna_int == 5:\n",
    "        zmienna_set = client.get_node('ns=4;i=30')\n",
    "        wartosc = 1 # lub False/True lub 'False'/'True' lub 0/1 lub 0x0/0x1\n",
    "        zmienna_set_dv = ua.DataValue(ua.Variant(wartosc, ua.VariantType.Boolean))\n",
    "        zmienna_set.set_value(zmienna_set_dv)\n",
    "        #zmiana wartosci z 1 na 0, aby wylaczyć counter\n",
    "        zmienna_set = client.get_node('ns=4;i=30')\n",
    "        wartosc = 0 # lub False/True lub 'False'/'True' lub 0/1 lub 0x0/0x1\n",
    "        zmienna_set_dv = ua.DataValue(ua.Variant(wartosc, ua.VariantType.Boolean))\n",
    "        zmienna_set.set_value(zmienna_set_dv)\n",
    "        zmienna_int = client.get_node('ns=4;i=22').get_value()\n",
    "        print(zmienna_int)\n",
    "        \n",
    "    #inaczej uruchom counter (incrementacja o jeden - zadeklarowane w PLC bloczek Counter)\n",
    "else:\n",
    "        zmienna_set = client.get_node('ns=4;i=31')\n",
    "        wartosc = 1 # lub False/True lub 'False'/'True' lub 0/1 lub 0x0/0x1\n",
    "        zmienna_set_dv = ua.DataValue(ua.Variant(wartosc, ua.VariantType.Boolean))\n",
    "        zmienna_set.set_value(zmienna_set_dv)\n",
    "        #zmiana wartosci z 1 na 0, aby wylaczyć counter\n",
    "        zmienna_set = client.get_node('ns=4;i=31')\n",
    "        wartosc = 0 # lub False/True lub 'False'/'True' lub 0/1 lub 0x0/0x1\n",
    "        zmienna_set_dv = ua.DataValue(ua.Variant(wartosc, ua.VariantType.Boolean))\n",
    "        zmienna_set.set_value(zmienna_set_dv)\n",
    "        zmienna_int = client.get_node('ns=4;i=22').get_value()\n",
    "        print(zmienna_int)\n"
   ]
  },
  {
   "cell_type": "code",
   "execution_count": null,
   "metadata": {},
   "outputs": [],
   "source": [
    "    #odczytanie wartości Real ze sterownika PLC. Wartość Real jest wartością zmienno przecinkową\n",
    "zmienna_real = float(client.get_node('ns=4;i=23').get_value())\n",
    "    #zaokrąglenie wartości do 2 liczb po przecinku\n",
    "    #zaokrąglenie odczytanej wartości do 2 miejsc po przecinku\n",
    "zmienna_real = round(zmienna_real,2)\n",
    "    #wyświetlenie odczytanej zmiennej Real\n",
    "print(zmienna_real)\n"
   ]
  },
  {
   "cell_type": "code",
   "execution_count": null,
   "metadata": {},
   "outputs": [],
   "source": [
    "    #odczytanie wartości String, która jest tekstowym typem danych \n",
    "zmienna_string = client.get_node('ns=4;i=24').get_value()\n",
    "    #więcej informacji o możliwych zastosowaniach dłuższych łańcuchów wartości jednowyrazowych (dwubajtowych - zastosowanie WString) w PLC S7-1x00\n",
    "    #https://support.industry.siemens.com/cs/mdm/109741593?c=79989723403&lc=en-CO\n",
    "    #wyświetlenie odczytanej zmiennej String\n",
    "print(zmienna_string)"
   ]
  },
  {
   "cell_type": "code",
   "execution_count": null,
   "metadata": {},
   "outputs": [],
   "source": [
    "    #odczyt danych z struktury - data type\n",
    "    #odczyt ns=?,i=? dla daty typu structura\n",
    "#print(client.get_node('ns=4;i=27').get_variables())\n",
    "\n",
    "    #odczyt wartości bool z struktury\n",
    "zmienna_structura_bool = client.get_node('ns=4;i=28').get_value()\n",
    "    #odczyt wartości byte z struktury. Wartość odczytywana jest jako wartość szesnastkowa\n",
    "zmienna_structura_byte = hex(client.get_node('ns=4;i=29').get_value())\n",
    "\n",
    "\n",
    "    #zmiana zapisu wartości na string, aby umożliwić prosty zapis w pliku CSV oraz analizę tego pliku (wyodrębnienie pojedyńczych zmiennych)\n",
    "zmienna_structura_bool_0 = str(zmienna_structura_bool)\n",
    "zmienna_structura_byte_1 = str(zmienna_structura_byte)\n",
    "    \n",
    "    #zapis zmienych z tablicy do jednej zmiennej, aby zapisać w jednej kolumnie w pliku CSV. Wartości oddzielonę są średnikiem \";\"                                              \n",
    "zmienna_structura = zmienna_structura_bool_0 + ';' + zmienna_structura_byte_1\n",
    "print(zmienna_structura)"
   ]
  },
  {
   "cell_type": "code",
   "execution_count": null,
   "metadata": {},
   "outputs": [],
   "source": [
    "    #z jakiego sterownika są zapisywane dane do pliku CSV\n",
    "sterownik = 's7-1214c'\n",
    "\n",
    "    #przypisanie odpowiedniej wartości dla kolumny Odczyt/zapis\n",
    "#odczyt_zapis = 'odczyt'\n",
    "\n",
    "    #zapis odczytanych danych do pliku csv\n",
    "    #sprawdzenie czy istnieje plik o nazwie \"opc.csv\"\n",
    "if(os.path.isfile('opc.csv')): #jeżeli tak to dopisz\n",
    "        with open('opc.csv','a',  encoding='UTF8', newline='') as file: #('nazwa pliku','a - dopisz do pliku','kodowanie','do nowej linii')\n",
    "            naglowek = ['Data','godzina','array','bool','byte','char','double word','int','real','string','structura','sterownik'] #nagłówek pliku CSV\n",
    "            writer = csv.DictWriter(file, delimiter =';', fieldnames=naglowek)  #dopisz do pliku (plik,'separacja','naglowek')        \n",
    "            writer.writerow({'Data':zmienna_date_time_date,'godzina':zmienna_date_time_time,\n",
    "                            'array':zmienna_array,'bool':zmienna_bool,'byte':zmienna_byte,\n",
    "                            'char':zmienna_char,'double word':zmienna_double_word,'int':zmienna_int,'real':zmienna_real,'string':zmienna_string,\n",
    "                            'structura':zmienna_structura,'sterownik':sterownik}) #dopisanie do pliku wartości zmiennych `\n",
    "            \n",
    "else: #inaczej stworz plik z naglowkami\n",
    "        with open('opc.csv','x',  encoding='UTF8', newline='') as file: #('nazwa pliku','a - dopisz do pliku','kodowanie','do nowej linii')\n",
    "            naglowek = ['Data','godzina','array','bool','byte','char','double word','int','real','string','structura','sterownik'] #nagłówek pliku CSV\n",
    "            writer = csv.DictWriter(file, delimiter =';', fieldnames=naglowek) #dopisz do pliku (plik,'separacja','naglowek')\n",
    "            writer.writeheader() #dopisz do pliku nagłówek - co nie dzieje się przy dopisywaniu do pliku,\n",
    "                                    #ponieważ w innym przypadku za każdym razem w pliku CSV zapis byłby (wiersze oddzielone średnikiem): nagłówek, zmienne, nagłówek, zmienne,...\n",
    "            writer.writerow({'Data':zmienna_date_time_date,'godzina':zmienna_date_time_time,\n",
    "                            'array':zmienna_array,'bool':zmienna_bool,'byte':zmienna_byte,\n",
    "                            'char':zmienna_char,'double word':zmienna_double_word,'int':zmienna_int,'real':zmienna_real,'string':zmienna_string,\n",
    "                            'structura':zmienna_structura,'sterownik':sterownik})  #dopisanie do pliku wartości zmiennych"
   ]
  },
  {
   "cell_type": "code",
   "execution_count": null,
   "metadata": {},
   "outputs": [],
   "source": [
    "    #rozłączanie z serwerem OPC UA\n",
    "client.disconnect()\n",
    "print(f'Rozlaczono z serwerem OPC {url}')"
   ]
  }
 ],
 "metadata": {
  "interpreter": {
   "hash": "247ab06e135bb35fa78c5eff31b2a9a0050dcb5fb773c2631d2a29ac689eeccb"
  },
  "kernelspec": {
   "display_name": "Python 3.9.6 64-bit",
   "name": "python3"
  },
  "language_info": {
   "codemirror_mode": {
    "name": "ipython",
    "version": 3
   },
   "file_extension": ".py",
   "mimetype": "text/x-python",
   "name": "python",
   "nbconvert_exporter": "python",
   "pygments_lexer": "ipython3",
   "version": "3.9.6"
  },
  "orig_nbformat": 4
 },
 "nbformat": 4,
 "nbformat_minor": 2
}
